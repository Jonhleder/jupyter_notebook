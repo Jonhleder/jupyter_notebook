{
 "cells": [
  {
   "cell_type": "markdown",
   "id": "9b926648-b7ce-4a97-8e8c-3ac5f075f6bb",
   "metadata": {},
   "source": [
    "<h1>Data Science Tools and Ecosystem</h1>"
   ]
  },
  {
   "cell_type": "markdown",
   "id": "280dfb16-1a45-4a86-bc50-bd9e004374f0",
   "metadata": {},
   "source": [
    "**En este cuaderno, se resume las herramientas y ecosistemas de ciencia de datos.**"
   ]
  },
  {
   "cell_type": "markdown",
   "id": "f8ab156a-39fc-4d7d-b2dc-1384f0571a6d",
   "metadata": {},
   "source": [
    "Algunos de los lenguajes populares que utilizan los científicos de datos son:\n",
    "\n",
    "1. Python  \n",
    "2. R  \n",
    "3. SQL  "
   ]
  },
  {
   "cell_type": "markdown",
   "id": "3793ba41-9a7b-4e77-b48d-ace18d97341c",
   "metadata": {},
   "source": [
    "Algunas de las bibliotecas comúnmente utilizadas por los científicos de datos incluyen:\n",
    "1. ggplot\n",
    "2. Plotly\n",
    "3. Lattice"
   ]
  },
  {
   "cell_type": "markdown",
   "id": "e1b01ddd-c666-430f-adf8-cd074ef32f9e",
   "metadata": {},
   "source": [
    "Herramientas de Ciencia de Datos:\n",
    "1. JupyterLite\n",
    "2. JupyterLab\n",
    "3. Visual Studio Code"
   ]
  },
  {
   "cell_type": "markdown",
   "id": "3c737612-206e-4256-81d2-55f761cbc469",
   "metadata": {},
   "source": [
    "A continuación, se presentan algunos ejemplos de evaluación de expresiones aritméticas en Python"
   ]
  },
  {
   "cell_type": "code",
   "execution_count": 5,
   "id": "f0b3dd7c-9af6-4dcb-b93a-87df4c0824cc",
   "metadata": {},
   "outputs": [
    {
     "data": {
      "text/plain": [
       "17"
      ]
     },
     "execution_count": 5,
     "metadata": {},
     "output_type": "execute_result"
    }
   ],
   "source": [
    "# Esta es una expresión aritmética simple para multiplicar y luego sumar enteros\n",
    "resultado = (3*4) +5\n",
    "resultado"
   ]
  },
  {
   "cell_type": "code",
   "execution_count": 4,
   "id": "33f901b2-eb83-4167-bf6a-938d3076ebe0",
   "metadata": {},
   "outputs": [
    {
     "data": {
      "text/plain": [
       "3.3333333333333335"
      ]
     },
     "execution_count": 4,
     "metadata": {},
     "output_type": "execute_result"
    }
   ],
   "source": [
    "# Esto convertirá 200 minutos a horas dividiendo por 60\n",
    "horas = 200 / 60\n",
    "horas\n"
   ]
  },
  {
   "cell_type": "markdown",
   "id": "cf14d3a8-f4ee-4937-91e8-0fbd39108ffc",
   "metadata": {},
   "source": [
    "**Objetivos:**\n",
    "\n",
    "- Listar lenguajes populares para Ciencia de Datos.\n",
    "- Explicar conceptos básicos de programación en Python.\n",
    "- Realizar operaciones matemáticas y manipulación de datos.\n",
    "- Introducir herramientas y entornos para análisis de datos.\n",
    "- Aplicar estructuras de control y funciones en Python."
   ]
  },
  {
   "cell_type": "markdown",
   "id": "ad6b0f29-9047-4e77-9d10-a0a15cd8e412",
   "metadata": {},
   "source": [
    "## Autor  \n",
    "\n",
    "Jonatan Badilla \n"
   ]
  }
 ],
 "metadata": {
  "kernelspec": {
   "display_name": "Python 3 (ipykernel)",
   "language": "python",
   "name": "python3"
  },
  "language_info": {
   "codemirror_mode": {
    "name": "ipython",
    "version": 3
   },
   "file_extension": ".py",
   "mimetype": "text/x-python",
   "name": "python",
   "nbconvert_exporter": "python",
   "pygments_lexer": "ipython3",
   "version": "3.12.8"
  }
 },
 "nbformat": 4,
 "nbformat_minor": 5
}
