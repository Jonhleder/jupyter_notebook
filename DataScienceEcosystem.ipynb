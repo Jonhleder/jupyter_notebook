{
  "metadata": {
    "kernelspec": {
      "name": "python",
      "display_name": "Python (Pyodide)",
      "language": "python"
    },
    "language_info": {
      "name": ""
    }
  },
  "nbformat_minor": 5,
  "nbformat": 4,
  "cells": [
    {
      "id": "e88e39a4-f3eb-4c84-8fc0-a5c9c68889a7",
      "cell_type": "markdown",
      "source": "<h1>Data Science Tools and Ecosystem</h1>",
      "metadata": {}
    },
    {
      "id": "1410b141-8b6c-42dd-b0ae-9897a54f6a5f",
      "cell_type": "markdown",
      "source": "**En este cuaderno, se resume las herramientas y ecosistemas de ciencia de datos.**",
      "metadata": {}
    },
    {
      "id": "003a7c40-a71c-4873-981f-d4a239091ba7",
      "cell_type": "markdown",
      "source": "Algunos de los lenguajes populares que utilizan los científicos de datos son:\n\n1. Python  \n2. R  \n3. SQL  \n",
      "metadata": {}
    },
    {
      "id": "a1a9c064-01ee-4d2f-9d31-68f5e2adb0af",
      "cell_type": "markdown",
      "source": "Algunas de las bibliotecas comúnmente utilizadas por los científicos de datos incluyen:\n1. ggplot\n2. Plotly\n3. Lattice\n",
      "metadata": {}
    },
    {
      "id": "c20105b9-cded-4c3c-876c-ef236a57a062",
      "cell_type": "markdown",
      "source": "Herramientas de Ciencia de Datos:\n1. JupyterLite\n2. JupyterLab\n3. Visual Studio Code",
      "metadata": {}
    },
    {
      "id": "be655c63-c0f1-44ce-872a-266789ccccc3",
      "cell_type": "markdown",
      "source": "A continuación, se presentan algunos ejemplos de evaluación de expresiones aritméticas en Python",
      "metadata": {}
    },
    {
      "id": "dbc4364e-400a-4c7d-bb68-b21f8b376ed8",
      "cell_type": "code",
      "source": "# Esta es una expresión aritmética simple para multiplicar y luego sumar enteros\nresultado = (3 * 4) + 5\nresultado",
      "metadata": {
        "trusted": true
      },
      "outputs": [],
      "execution_count": null
    },
    {
      "id": "01882f90-6194-4fd3-9768-9b94b698a709",
      "cell_type": "code",
      "source": "# Esto convertirá 200 minutos a horas dividiendo por 60\nhoras = 200 / 60\nhoras\n",
      "metadata": {
        "trusted": true
      },
      "outputs": [],
      "execution_count": null
    },
    {
      "id": "2f7cc4ab-939d-48f7-a76a-b766b62fc41c",
      "cell_type": "markdown",
      "source": "**Objetivos:**\n\n- Listar lenguajes populares para Ciencia de Datos.\n- Explicar conceptos básicos de programación en Python.\n- Realizar operaciones matemáticas y manipulación de datos.\n- Introducir herramientas y entornos para análisis de datos.\n- Aplicar estructuras de control y funciones en Python.\n",
      "metadata": {}
    },
    {
      "id": "ffa8defc-27c5-4407-a151-70c997221c07",
      "cell_type": "markdown",
      "source": "## Autor  \n\nJonatan Badilla \n",
      "metadata": {}
    },
    {
      "id": "c1a29317-f014-4359-88cf-775dbbd64830",
      "cell_type": "code",
      "source": "",
      "metadata": {
        "trusted": true
      },
      "outputs": [],
      "execution_count": null
    }
  ]
}